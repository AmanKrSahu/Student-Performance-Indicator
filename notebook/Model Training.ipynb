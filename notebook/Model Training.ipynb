{
 "cells": [
  {
   "cell_type": "markdown",
   "metadata": {},
   "source": [
    "# Student Performance Indicator: Model Training\n",
    "\n",
    "### About the Dataset\n",
    "This project understands how the student's performance (test scores) is affected by other variables such as Gender, Ethnicity, Parental level of education, Lunch and Test preparation course.\n",
    "\n",
    "**Source:** https://www.kaggle.com/datasets/spscientist/students-performance-in-exams?datasetId=74977\n",
    "\n",
    "### Description\n",
    "- **gender:** Sex of students\n",
    "- **race/ethnicity:** Indicates the ethnicity of students\n",
    "- **parental level of education:** Parents' final education \n",
    "- **lunch:** Type of lunch the student had before test\n",
    "- **test preparation course:** Tells whether the course was completed before the test or not\n",
    "- **math score:** Math's score of the student\n",
    "- **reading score:** Reading's score of the student\n",
    "- **writing score:** Writing's score of the student\n",
    "\n",
    "### Objective\n",
    "Our objective is to predict a student's score on the test they underwent."
   ]
  },
  {
   "cell_type": "code",
   "execution_count": null,
   "metadata": {},
   "outputs": [],
   "source": []
  }
 ],
 "metadata": {
  "kernelspec": {
   "display_name": "Python 3 (ipykernel)",
   "language": "python",
   "name": "python3"
  },
  "language_info": {
   "codemirror_mode": {
    "name": "ipython",
    "version": 3
   },
   "file_extension": ".py",
   "mimetype": "text/x-python",
   "name": "python",
   "nbconvert_exporter": "python",
   "pygments_lexer": "ipython3",
   "version": "3.9.13"
  }
 },
 "nbformat": 4,
 "nbformat_minor": 2
}
